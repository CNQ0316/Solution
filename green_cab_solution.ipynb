{
 "cells": [
  {
   "cell_type": "code",
   "execution_count": 66,
   "metadata": {},
   "outputs": [],
   "source": [
    "import pandas as pd\n",
    "import matplotlib.pyplot as plt\n",
    "import seaborn as sns\n",
    "import numpy as np\n",
    "import math\n",
    "from scipy import stats"
   ]
  },
  {
   "cell_type": "code",
   "execution_count": 67,
   "metadata": {},
   "outputs": [
    {
     "name": "stdout",
     "output_type": "stream",
     "text": [
      "ROWS: 1494926\n",
      "COLUMNS: 21\n",
      "<class 'pandas.core.frame.DataFrame'>\n",
      "RangeIndex: 1494926 entries, 0 to 1494925\n",
      "Data columns (total 21 columns):\n",
      "VendorID                 1494926 non-null int64\n",
      "lpep_pickup_datetime     1494926 non-null object\n",
      "Lpep_dropoff_datetime    1494926 non-null object\n",
      "Store_and_fwd_flag       1494926 non-null object\n",
      "RateCodeID               1494926 non-null int64\n",
      "Pickup_longitude         1494926 non-null float64\n",
      "Pickup_latitude          1494926 non-null float64\n",
      "Dropoff_longitude        1494926 non-null float64\n",
      "Dropoff_latitude         1494926 non-null float64\n",
      "Passenger_count          1494926 non-null int64\n",
      "Trip_distance            1494926 non-null float64\n",
      "Fare_amount              1494926 non-null float64\n",
      "Extra                    1494926 non-null float64\n",
      "MTA_tax                  1494926 non-null float64\n",
      "Tip_amount               1494926 non-null float64\n",
      "Tolls_amount             1494926 non-null float64\n",
      "Ehail_fee                0 non-null float64\n",
      "improvement_surcharge    1494926 non-null float64\n",
      "Total_amount             1494926 non-null float64\n",
      "Payment_type             1494926 non-null int64\n",
      "Trip_type                1494922 non-null float64\n",
      "dtypes: float64(14), int64(4), object(3)\n",
      "memory usage: 239.5+ MB\n"
     ]
    }
   ],
   "source": [
    "#Q1\n",
    "df = pd.read_csv('green_tripdata_2015-09.csv')\n",
    "print (\"ROWS:\", df.shape[0])\n",
    "print (\"COLUMNS:\", df.shape[1])\n",
    "df.info()"
   ]
  },
  {
   "cell_type": "code",
   "execution_count": 68,
   "metadata": {},
   "outputs": [
    {
     "data": {
      "text/html": [
       "<div>\n",
       "<style scoped>\n",
       "    .dataframe tbody tr th:only-of-type {\n",
       "        vertical-align: middle;\n",
       "    }\n",
       "\n",
       "    .dataframe tbody tr th {\n",
       "        vertical-align: top;\n",
       "    }\n",
       "\n",
       "    .dataframe thead th {\n",
       "        text-align: right;\n",
       "    }\n",
       "</style>\n",
       "<table border=\"1\" class=\"dataframe\">\n",
       "  <thead>\n",
       "    <tr style=\"text-align: right;\">\n",
       "      <th></th>\n",
       "      <th>VendorID</th>\n",
       "      <th>lpep_pickup_datetime</th>\n",
       "      <th>Lpep_dropoff_datetime</th>\n",
       "      <th>Store_and_fwd_flag</th>\n",
       "      <th>RateCodeID</th>\n",
       "      <th>Pickup_longitude</th>\n",
       "      <th>Pickup_latitude</th>\n",
       "      <th>Dropoff_longitude</th>\n",
       "      <th>Dropoff_latitude</th>\n",
       "      <th>Passenger_count</th>\n",
       "      <th>...</th>\n",
       "      <th>Fare_amount</th>\n",
       "      <th>Extra</th>\n",
       "      <th>MTA_tax</th>\n",
       "      <th>Tip_amount</th>\n",
       "      <th>Tolls_amount</th>\n",
       "      <th>Ehail_fee</th>\n",
       "      <th>improvement_surcharge</th>\n",
       "      <th>Total_amount</th>\n",
       "      <th>Payment_type</th>\n",
       "      <th>Trip_type</th>\n",
       "    </tr>\n",
       "  </thead>\n",
       "  <tbody>\n",
       "    <tr>\n",
       "      <th>0</th>\n",
       "      <td>2</td>\n",
       "      <td>2015-09-01 00:02:34</td>\n",
       "      <td>2015-09-01 00:02:38</td>\n",
       "      <td>N</td>\n",
       "      <td>5</td>\n",
       "      <td>-73.979485</td>\n",
       "      <td>40.684956</td>\n",
       "      <td>-73.979431</td>\n",
       "      <td>40.685020</td>\n",
       "      <td>1</td>\n",
       "      <td>...</td>\n",
       "      <td>7.8</td>\n",
       "      <td>0.0</td>\n",
       "      <td>0.0</td>\n",
       "      <td>1.95</td>\n",
       "      <td>0.0</td>\n",
       "      <td>NaN</td>\n",
       "      <td>0.0</td>\n",
       "      <td>9.75</td>\n",
       "      <td>1</td>\n",
       "      <td>2.0</td>\n",
       "    </tr>\n",
       "    <tr>\n",
       "      <th>1</th>\n",
       "      <td>2</td>\n",
       "      <td>2015-09-01 00:04:20</td>\n",
       "      <td>2015-09-01 00:04:24</td>\n",
       "      <td>N</td>\n",
       "      <td>5</td>\n",
       "      <td>-74.010796</td>\n",
       "      <td>40.912216</td>\n",
       "      <td>-74.010780</td>\n",
       "      <td>40.912212</td>\n",
       "      <td>1</td>\n",
       "      <td>...</td>\n",
       "      <td>45.0</td>\n",
       "      <td>0.0</td>\n",
       "      <td>0.0</td>\n",
       "      <td>0.00</td>\n",
       "      <td>0.0</td>\n",
       "      <td>NaN</td>\n",
       "      <td>0.0</td>\n",
       "      <td>45.00</td>\n",
       "      <td>1</td>\n",
       "      <td>2.0</td>\n",
       "    </tr>\n",
       "    <tr>\n",
       "      <th>2</th>\n",
       "      <td>2</td>\n",
       "      <td>2015-09-01 00:01:50</td>\n",
       "      <td>2015-09-01 00:04:24</td>\n",
       "      <td>N</td>\n",
       "      <td>1</td>\n",
       "      <td>-73.921410</td>\n",
       "      <td>40.766708</td>\n",
       "      <td>-73.914413</td>\n",
       "      <td>40.764687</td>\n",
       "      <td>1</td>\n",
       "      <td>...</td>\n",
       "      <td>4.0</td>\n",
       "      <td>0.5</td>\n",
       "      <td>0.5</td>\n",
       "      <td>0.50</td>\n",
       "      <td>0.0</td>\n",
       "      <td>NaN</td>\n",
       "      <td>0.3</td>\n",
       "      <td>5.80</td>\n",
       "      <td>1</td>\n",
       "      <td>1.0</td>\n",
       "    </tr>\n",
       "    <tr>\n",
       "      <th>3</th>\n",
       "      <td>2</td>\n",
       "      <td>2015-09-01 00:02:36</td>\n",
       "      <td>2015-09-01 00:06:42</td>\n",
       "      <td>N</td>\n",
       "      <td>1</td>\n",
       "      <td>-73.921387</td>\n",
       "      <td>40.766678</td>\n",
       "      <td>-73.931427</td>\n",
       "      <td>40.771584</td>\n",
       "      <td>1</td>\n",
       "      <td>...</td>\n",
       "      <td>5.0</td>\n",
       "      <td>0.5</td>\n",
       "      <td>0.5</td>\n",
       "      <td>0.00</td>\n",
       "      <td>0.0</td>\n",
       "      <td>NaN</td>\n",
       "      <td>0.3</td>\n",
       "      <td>6.30</td>\n",
       "      <td>2</td>\n",
       "      <td>1.0</td>\n",
       "    </tr>\n",
       "    <tr>\n",
       "      <th>4</th>\n",
       "      <td>2</td>\n",
       "      <td>2015-09-01 00:00:14</td>\n",
       "      <td>2015-09-01 00:04:20</td>\n",
       "      <td>N</td>\n",
       "      <td>1</td>\n",
       "      <td>-73.955482</td>\n",
       "      <td>40.714046</td>\n",
       "      <td>-73.944412</td>\n",
       "      <td>40.714729</td>\n",
       "      <td>1</td>\n",
       "      <td>...</td>\n",
       "      <td>5.0</td>\n",
       "      <td>0.5</td>\n",
       "      <td>0.5</td>\n",
       "      <td>0.00</td>\n",
       "      <td>0.0</td>\n",
       "      <td>NaN</td>\n",
       "      <td>0.3</td>\n",
       "      <td>6.30</td>\n",
       "      <td>2</td>\n",
       "      <td>1.0</td>\n",
       "    </tr>\n",
       "  </tbody>\n",
       "</table>\n",
       "<p>5 rows × 21 columns</p>\n",
       "</div>"
      ],
      "text/plain": [
       "   VendorID lpep_pickup_datetime Lpep_dropoff_datetime Store_and_fwd_flag  \\\n",
       "0         2  2015-09-01 00:02:34   2015-09-01 00:02:38                  N   \n",
       "1         2  2015-09-01 00:04:20   2015-09-01 00:04:24                  N   \n",
       "2         2  2015-09-01 00:01:50   2015-09-01 00:04:24                  N   \n",
       "3         2  2015-09-01 00:02:36   2015-09-01 00:06:42                  N   \n",
       "4         2  2015-09-01 00:00:14   2015-09-01 00:04:20                  N   \n",
       "\n",
       "   RateCodeID  Pickup_longitude  Pickup_latitude  Dropoff_longitude  \\\n",
       "0           5        -73.979485        40.684956         -73.979431   \n",
       "1           5        -74.010796        40.912216         -74.010780   \n",
       "2           1        -73.921410        40.766708         -73.914413   \n",
       "3           1        -73.921387        40.766678         -73.931427   \n",
       "4           1        -73.955482        40.714046         -73.944412   \n",
       "\n",
       "   Dropoff_latitude  Passenger_count  ...  Fare_amount  Extra  MTA_tax  \\\n",
       "0         40.685020                1  ...          7.8    0.0      0.0   \n",
       "1         40.912212                1  ...         45.0    0.0      0.0   \n",
       "2         40.764687                1  ...          4.0    0.5      0.5   \n",
       "3         40.771584                1  ...          5.0    0.5      0.5   \n",
       "4         40.714729                1  ...          5.0    0.5      0.5   \n",
       "\n",
       "   Tip_amount  Tolls_amount  Ehail_fee  improvement_surcharge  Total_amount  \\\n",
       "0        1.95           0.0        NaN                    0.0          9.75   \n",
       "1        0.00           0.0        NaN                    0.0         45.00   \n",
       "2        0.50           0.0        NaN                    0.3          5.80   \n",
       "3        0.00           0.0        NaN                    0.3          6.30   \n",
       "4        0.00           0.0        NaN                    0.3          6.30   \n",
       "\n",
       "   Payment_type  Trip_type   \n",
       "0             1         2.0  \n",
       "1             1         2.0  \n",
       "2             1         1.0  \n",
       "3             2         1.0  \n",
       "4             2         1.0  \n",
       "\n",
       "[5 rows x 21 columns]"
      ]
     },
     "execution_count": 68,
     "metadata": {},
     "output_type": "execute_result"
    }
   ],
   "source": [
    "df.head()"
   ]
  },
  {
   "cell_type": "code",
   "execution_count": 69,
   "metadata": {},
   "outputs": [
    {
     "data": {
      "text/plain": [
       "Text(0.5, 1.0, 'Histogram of Trip Distance with outliers included')"
      ]
     },
     "execution_count": 69,
     "metadata": {},
     "output_type": "execute_result"
    },
    {
     "data": {
      "image/png": "[encoded data removed]",
      "text/plain": [
       "<Figure size 432x288 with 1 Axes>"
      ]
     },
     "metadata": {
      "needs_background": "light"
     },
     "output_type": "display_data"
    }
   ],
   "source": [
    "#Q2\n",
    "df.Trip_distance.hist(bins = 30)\n",
    "plt.title('Histogram of Trip Distance with outliers included')"
   ]
  },
  {
   "cell_type": "code",
   "execution_count": 70,
   "metadata": {},
   "outputs": [
    {
     "data": {
      "text/plain": [
       "(1.98, 2.9681408511189864, 3.076619780340042)"
      ]
     },
     "execution_count": 70,
     "metadata": {},
     "output_type": "execute_result"
    }
   ],
   "source": [
    "median = np.median(df.Trip_distance)\n",
    "mean = np.mean(df.Trip_distance)\n",
    "std = np.std(df.Trip_distance)\n",
    "median, mean, std"
   ]
  },
  {
   "cell_type": "code",
   "execution_count": 71,
   "metadata": {},
   "outputs": [
    {
     "data": {
      "text/plain": [
       "Text(0.5, 1.0, 'Histogram of Trip Distance without outliers')"
      ]
     },
     "execution_count": 71,
     "metadata": {},
     "output_type": "execute_result"
    },
    {
     "data": {
      "image/png": "[encoded data removed]",
      "text/plain": [
       "<Figure size 432x288 with 1 Axes>"
      ]
     },
     "metadata": {
      "needs_background": "light"
     },
     "output_type": "display_data"
    }
   ],
   "source": [
    "df.Trip_distance[~((df.Trip_distance-median)>3*std)].hist(bins=30)\n",
    "plt.title('Histogram of Trip Distance without outliers')"
   ]
  },
  {
   "cell_type": "code",
   "execution_count": 72,
   "metadata": {},
   "outputs": [
    {
     "data": {
      "text/plain": [
       "<matplotlib.axes._subplots.AxesSubplot at 0x1a8011a320>"
      ]
     },
     "execution_count": 72,
     "metadata": {},
     "output_type": "execute_result"
    },
    {
     "data": {
      "image/png": "[encoded data removed]",
      "text/plain": [
       "<Figure size 432x288 with 1 Axes>"
      ]
     },
     "metadata": {
      "needs_background": "light"
     },
     "output_type": "display_data"
    }
   ],
   "source": [
    "df['Trip_logdistance'] = df['Trip_distance'].apply(lambda x: np.log(x + 0.1))\n",
    "df.Trip_logdistance.hist(bins = 30)"
   ]
  },
  {
   "cell_type": "code",
   "execution_count": 73,
   "metadata": {},
   "outputs": [
    {
     "data": {
      "image/png": "[encoded data removed]",
      "text/plain": [
       "<Figure size 432x288 with 1 Axes>"
      ]
     },
     "metadata": {
      "needs_background": "light"
     },
     "output_type": "display_data"
    }
   ],
   "source": [
    "stats.probplot(df.Trip_logdistance, dist=stats.logistic, plot=plt)\n",
    "plt.axis([-5,5,-5,5])\n",
    "plt.show()"
   ]
  },
  {
   "cell_type": "code",
   "execution_count": 74,
   "metadata": {},
   "outputs": [
    {
     "data": {
      "text/html": [
       "<div>\n",
       "<style scoped>\n",
       "    .dataframe tbody tr th:only-of-type {\n",
       "        vertical-align: middle;\n",
       "    }\n",
       "\n",
       "    .dataframe tbody tr th {\n",
       "        vertical-align: top;\n",
       "    }\n",
       "\n",
       "    .dataframe thead th {\n",
       "        text-align: right;\n",
       "    }\n",
       "</style>\n",
       "<table border=\"1\" class=\"dataframe\">\n",
       "  <thead>\n",
       "    <tr style=\"text-align: right;\">\n",
       "      <th></th>\n",
       "      <th>mean_Trip_distance</th>\n",
       "      <th>medium_Trip_distance</th>\n",
       "    </tr>\n",
       "    <tr>\n",
       "      <th>Pickup_hour</th>\n",
       "      <th></th>\n",
       "      <th></th>\n",
       "    </tr>\n",
       "  </thead>\n",
       "  <tbody>\n",
       "    <tr>\n",
       "      <th>0</th>\n",
       "      <td>3.115276</td>\n",
       "      <td>2.20</td>\n",
       "    </tr>\n",
       "    <tr>\n",
       "      <th>1</th>\n",
       "      <td>3.017347</td>\n",
       "      <td>2.12</td>\n",
       "    </tr>\n",
       "    <tr>\n",
       "      <th>2</th>\n",
       "      <td>3.046176</td>\n",
       "      <td>2.14</td>\n",
       "    </tr>\n",
       "    <tr>\n",
       "      <th>3</th>\n",
       "      <td>3.212945</td>\n",
       "      <td>2.20</td>\n",
       "    </tr>\n",
       "    <tr>\n",
       "      <th>4</th>\n",
       "      <td>3.526555</td>\n",
       "      <td>2.36</td>\n",
       "    </tr>\n",
       "    <tr>\n",
       "      <th>5</th>\n",
       "      <td>4.133474</td>\n",
       "      <td>2.90</td>\n",
       "    </tr>\n",
       "    <tr>\n",
       "      <th>6</th>\n",
       "      <td>4.055149</td>\n",
       "      <td>2.84</td>\n",
       "    </tr>\n",
       "    <tr>\n",
       "      <th>7</th>\n",
       "      <td>3.284394</td>\n",
       "      <td>2.17</td>\n",
       "    </tr>\n",
       "    <tr>\n",
       "      <th>8</th>\n",
       "      <td>3.048450</td>\n",
       "      <td>1.98</td>\n",
       "    </tr>\n",
       "    <tr>\n",
       "      <th>9</th>\n",
       "      <td>2.999105</td>\n",
       "      <td>1.96</td>\n",
       "    </tr>\n",
       "    <tr>\n",
       "      <th>10</th>\n",
       "      <td>2.944482</td>\n",
       "      <td>1.92</td>\n",
       "    </tr>\n",
       "    <tr>\n",
       "      <th>11</th>\n",
       "      <td>2.912015</td>\n",
       "      <td>1.88</td>\n",
       "    </tr>\n",
       "    <tr>\n",
       "      <th>12</th>\n",
       "      <td>2.903065</td>\n",
       "      <td>1.89</td>\n",
       "    </tr>\n",
       "    <tr>\n",
       "      <th>13</th>\n",
       "      <td>2.878294</td>\n",
       "      <td>1.84</td>\n",
       "    </tr>\n",
       "    <tr>\n",
       "      <th>14</th>\n",
       "      <td>2.864304</td>\n",
       "      <td>1.83</td>\n",
       "    </tr>\n",
       "    <tr>\n",
       "      <th>15</th>\n",
       "      <td>2.857040</td>\n",
       "      <td>1.81</td>\n",
       "    </tr>\n",
       "    <tr>\n",
       "      <th>16</th>\n",
       "      <td>2.779852</td>\n",
       "      <td>1.80</td>\n",
       "    </tr>\n",
       "    <tr>\n",
       "      <th>17</th>\n",
       "      <td>2.679114</td>\n",
       "      <td>1.78</td>\n",
       "    </tr>\n",
       "    <tr>\n",
       "      <th>18</th>\n",
       "      <td>2.653222</td>\n",
       "      <td>1.80</td>\n",
       "    </tr>\n",
       "    <tr>\n",
       "      <th>19</th>\n",
       "      <td>2.715597</td>\n",
       "      <td>1.85</td>\n",
       "    </tr>\n",
       "    <tr>\n",
       "      <th>20</th>\n",
       "      <td>2.777052</td>\n",
       "      <td>1.90</td>\n",
       "    </tr>\n",
       "    <tr>\n",
       "      <th>21</th>\n",
       "      <td>2.999189</td>\n",
       "      <td>2.03</td>\n",
       "    </tr>\n",
       "    <tr>\n",
       "      <th>22</th>\n",
       "      <td>3.185394</td>\n",
       "      <td>2.20</td>\n",
       "    </tr>\n",
       "    <tr>\n",
       "      <th>23</th>\n",
       "      <td>3.191538</td>\n",
       "      <td>2.22</td>\n",
       "    </tr>\n",
       "  </tbody>\n",
       "</table>\n",
       "</div>"
      ],
      "text/plain": [
       "             mean_Trip_distance  medium_Trip_distance\n",
       "Pickup_hour                                          \n",
       "0                      3.115276                  2.20\n",
       "1                      3.017347                  2.12\n",
       "2                      3.046176                  2.14\n",
       "3                      3.212945                  2.20\n",
       "4                      3.526555                  2.36\n",
       "5                      4.133474                  2.90\n",
       "6                      4.055149                  2.84\n",
       "7                      3.284394                  2.17\n",
       "8                      3.048450                  1.98\n",
       "9                      2.999105                  1.96\n",
       "10                     2.944482                  1.92\n",
       "11                     2.912015                  1.88\n",
       "12                     2.903065                  1.89\n",
       "13                     2.878294                  1.84\n",
       "14                     2.864304                  1.83\n",
       "15                     2.857040                  1.81\n",
       "16                     2.779852                  1.80\n",
       "17                     2.679114                  1.78\n",
       "18                     2.653222                  1.80\n",
       "19                     2.715597                  1.85\n",
       "20                     2.777052                  1.90\n",
       "21                     2.999189                  2.03\n",
       "22                     3.185394                  2.20\n",
       "23                     3.191538                  2.22"
      ]
     },
     "execution_count": 74,
     "metadata": {},
     "output_type": "execute_result"
    }
   ],
   "source": [
    "#Q3\n",
    "df['lpep_pickup_datetime'] = pd.to_datetime(df['lpep_pickup_datetime'], infer_datetime_format=True)\n",
    "df['Lpep_dropoff_datetime'] = pd.to_datetime(df['Lpep_dropoff_datetime'], infer_datetime_format=True)\n",
    "df['Pickup_hour'] = df['lpep_pickup_datetime'].dt.hour\n",
    "df['Dropoff_hour'] = df['Lpep_dropoff_datetime'].dt.hour\n",
    "df_hourly_distance=df[['Trip_distance','Pickup_hour']].groupby(by='Pickup_hour').mean()\n",
    "df_hourly_distance.columns=['mean_Trip_distance']\n",
    "df_hourly_distance['medium_Trip_distance']=df[['Trip_distance','Pickup_hour']].groupby(by='Pickup_hour').median()\n",
    "df_hourly_distance"
   ]
  },
  {
   "cell_type": "code",
   "execution_count": 75,
   "metadata": {},
   "outputs": [
    {
     "data": {
      "text/plain": [
       "'\\nconda install -c conda-forge/label/cf201901 folium\\nimport folium\\nworld_map = folium.Map()\\n'"
      ]
     },
     "execution_count": 75,
     "metadata": {},
     "output_type": "execute_result"
    }
   ],
   "source": [
    "'''\n",
    "conda install -c conda-forge/label/cf201901 folium\n",
    "import folium\n",
    "world_map = folium.Map()\n",
    "'''"
   ]
  },
  {
   "cell_type": "code",
   "execution_count": 76,
   "metadata": {},
   "outputs": [
    {
     "name": "stdout",
     "output_type": "stream",
     "text": [
      "Number of trips to/from NYC airports:  5552\n",
      "Average fare (per meter) of trips to/from NYC airports: $ 48.976945244956774 per trip\n",
      "Average total charged amount (without tip) of trips to/from NYC airports: $ 57.20842038904719 per trip\n",
      "Average total tip amount of trips to/from NYC airports: $ 4.353515850144067 per trip\n"
     ]
    }
   ],
   "source": [
    "#RateCodeID = 2 or 3\n",
    "airports_trips = df[(df.RateCodeID==2) | (df.RateCodeID==3)]\n",
    "print(\"Number of trips to/from NYC airports: \", airports_trips.shape[0])\n",
    "print(\"Average fare (per meter) of trips to/from NYC airports: $\", airports_trips.Fare_amount.mean(),\"per trip\")\n",
    "print(\"Average total charged amount (without tip) of trips to/from NYC airports: $\", airports_trips.Total_amount.mean(),\"per trip\")\n",
    "print(\"Average total tip amount of trips to/from NYC airports: $\", airports_trips.Tip_amount.mean(),\"per trip\")"
   ]
  },
  {
   "cell_type": "code",
   "execution_count": 77,
   "metadata": {},
   "outputs": [
    {
     "data": {
      "text/plain": [
       "VendorID                          int64\n",
       "lpep_pickup_datetime     datetime64[ns]\n",
       "Lpep_dropoff_datetime    datetime64[ns]\n",
       "Store_and_fwd_flag               object\n",
       "RateCodeID                        int64\n",
       "Pickup_longitude                float64\n",
       "Pickup_latitude                 float64\n",
       "Dropoff_longitude               float64\n",
       "Dropoff_latitude                float64\n",
       "Passenger_count                   int64\n",
       "Trip_distance                   float64\n",
       "Fare_amount                     float64\n",
       "Extra                           float64\n",
       "MTA_tax                         float64\n",
       "Tip_amount                      float64\n",
       "Tolls_amount                    float64\n",
       "Ehail_fee                       float64\n",
       "improvement_surcharge           float64\n",
       "Total_amount                    float64\n",
       "Payment_type                      int64\n",
       "Trip_type                       float64\n",
       "Trip_logdistance                float64\n",
       "Pickup_hour                       int64\n",
       "Dropoff_hour                      int64\n",
       "tip_%                           float64\n",
       "dtype: object"
      ]
     },
     "execution_count": 77,
     "metadata": {},
     "output_type": "execute_result"
    }
   ],
   "source": [
    "#Q4\n",
    "df['tip_%'] = df['Tip_amount']/df['Total_amount']\n",
    "df = df[df['tip_%']<1]\n",
    "df.dtypes"
   ]
  },
  {
   "cell_type": "code",
   "execution_count": 78,
   "metadata": {},
   "outputs": [
    {
     "data": {
      "text/html": [
       "<div>\n",
       "<style scoped>\n",
       "    .dataframe tbody tr th:only-of-type {\n",
       "        vertical-align: middle;\n",
       "    }\n",
       "\n",
       "    .dataframe tbody tr th {\n",
       "        vertical-align: top;\n",
       "    }\n",
       "\n",
       "    .dataframe thead th {\n",
       "        text-align: right;\n",
       "    }\n",
       "</style>\n",
       "<table border=\"1\" class=\"dataframe\">\n",
       "  <thead>\n",
       "    <tr style=\"text-align: right;\">\n",
       "      <th></th>\n",
       "      <th>VendorID</th>\n",
       "      <th>lpep_pickup_datetime</th>\n",
       "      <th>Lpep_dropoff_datetime</th>\n",
       "      <th>Store_and_fwd_flag</th>\n",
       "      <th>RateCodeID</th>\n",
       "      <th>Pickup_longitude</th>\n",
       "      <th>Pickup_latitude</th>\n",
       "      <th>Dropoff_longitude</th>\n",
       "      <th>Dropoff_latitude</th>\n",
       "      <th>Passenger_count</th>\n",
       "      <th>...</th>\n",
       "      <th>Tolls_amount</th>\n",
       "      <th>Ehail_fee</th>\n",
       "      <th>improvement_surcharge</th>\n",
       "      <th>Total_amount</th>\n",
       "      <th>Payment_type</th>\n",
       "      <th>Trip_type</th>\n",
       "      <th>Trip_logdistance</th>\n",
       "      <th>Pickup_hour</th>\n",
       "      <th>Dropoff_hour</th>\n",
       "      <th>tip_%</th>\n",
       "    </tr>\n",
       "  </thead>\n",
       "  <tbody>\n",
       "    <tr>\n",
       "      <th>0</th>\n",
       "      <td>2</td>\n",
       "      <td>2015-09-01 00:02:34</td>\n",
       "      <td>2015-09-01 00:02:38</td>\n",
       "      <td>N</td>\n",
       "      <td>5</td>\n",
       "      <td>-73.979485</td>\n",
       "      <td>40.684956</td>\n",
       "      <td>-73.979431</td>\n",
       "      <td>40.685020</td>\n",
       "      <td>1</td>\n",
       "      <td>...</td>\n",
       "      <td>0.0</td>\n",
       "      <td>NaN</td>\n",
       "      <td>0.0</td>\n",
       "      <td>9.75</td>\n",
       "      <td>1</td>\n",
       "      <td>2.0</td>\n",
       "      <td>-2.302585</td>\n",
       "      <td>0</td>\n",
       "      <td>0</td>\n",
       "      <td>0.200000</td>\n",
       "    </tr>\n",
       "    <tr>\n",
       "      <th>1</th>\n",
       "      <td>2</td>\n",
       "      <td>2015-09-01 00:04:20</td>\n",
       "      <td>2015-09-01 00:04:24</td>\n",
       "      <td>N</td>\n",
       "      <td>5</td>\n",
       "      <td>-74.010796</td>\n",
       "      <td>40.912216</td>\n",
       "      <td>-74.010780</td>\n",
       "      <td>40.912212</td>\n",
       "      <td>1</td>\n",
       "      <td>...</td>\n",
       "      <td>0.0</td>\n",
       "      <td>NaN</td>\n",
       "      <td>0.0</td>\n",
       "      <td>45.00</td>\n",
       "      <td>1</td>\n",
       "      <td>2.0</td>\n",
       "      <td>-2.302585</td>\n",
       "      <td>0</td>\n",
       "      <td>0</td>\n",
       "      <td>0.000000</td>\n",
       "    </tr>\n",
       "    <tr>\n",
       "      <th>2</th>\n",
       "      <td>2</td>\n",
       "      <td>2015-09-01 00:01:50</td>\n",
       "      <td>2015-09-01 00:04:24</td>\n",
       "      <td>N</td>\n",
       "      <td>1</td>\n",
       "      <td>-73.921410</td>\n",
       "      <td>40.766708</td>\n",
       "      <td>-73.914413</td>\n",
       "      <td>40.764687</td>\n",
       "      <td>1</td>\n",
       "      <td>...</td>\n",
       "      <td>0.0</td>\n",
       "      <td>NaN</td>\n",
       "      <td>0.3</td>\n",
       "      <td>5.80</td>\n",
       "      <td>1</td>\n",
       "      <td>1.0</td>\n",
       "      <td>-0.371064</td>\n",
       "      <td>0</td>\n",
       "      <td>0</td>\n",
       "      <td>0.086207</td>\n",
       "    </tr>\n",
       "    <tr>\n",
       "      <th>3</th>\n",
       "      <td>2</td>\n",
       "      <td>2015-09-01 00:02:36</td>\n",
       "      <td>2015-09-01 00:06:42</td>\n",
       "      <td>N</td>\n",
       "      <td>1</td>\n",
       "      <td>-73.921387</td>\n",
       "      <td>40.766678</td>\n",
       "      <td>-73.931427</td>\n",
       "      <td>40.771584</td>\n",
       "      <td>1</td>\n",
       "      <td>...</td>\n",
       "      <td>0.0</td>\n",
       "      <td>NaN</td>\n",
       "      <td>0.3</td>\n",
       "      <td>6.30</td>\n",
       "      <td>2</td>\n",
       "      <td>1.0</td>\n",
       "      <td>-0.174353</td>\n",
       "      <td>0</td>\n",
       "      <td>0</td>\n",
       "      <td>0.000000</td>\n",
       "    </tr>\n",
       "    <tr>\n",
       "      <th>4</th>\n",
       "      <td>2</td>\n",
       "      <td>2015-09-01 00:00:14</td>\n",
       "      <td>2015-09-01 00:04:20</td>\n",
       "      <td>N</td>\n",
       "      <td>1</td>\n",
       "      <td>-73.955482</td>\n",
       "      <td>40.714046</td>\n",
       "      <td>-73.944412</td>\n",
       "      <td>40.714729</td>\n",
       "      <td>1</td>\n",
       "      <td>...</td>\n",
       "      <td>0.0</td>\n",
       "      <td>NaN</td>\n",
       "      <td>0.3</td>\n",
       "      <td>6.30</td>\n",
       "      <td>2</td>\n",
       "      <td>1.0</td>\n",
       "      <td>-0.342490</td>\n",
       "      <td>0</td>\n",
       "      <td>0</td>\n",
       "      <td>0.000000</td>\n",
       "    </tr>\n",
       "  </tbody>\n",
       "</table>\n",
       "<p>5 rows × 25 columns</p>\n",
       "</div>"
      ],
      "text/plain": [
       "   VendorID lpep_pickup_datetime Lpep_dropoff_datetime Store_and_fwd_flag  \\\n",
       "0         2  2015-09-01 00:02:34   2015-09-01 00:02:38                  N   \n",
       "1         2  2015-09-01 00:04:20   2015-09-01 00:04:24                  N   \n",
       "2         2  2015-09-01 00:01:50   2015-09-01 00:04:24                  N   \n",
       "3         2  2015-09-01 00:02:36   2015-09-01 00:06:42                  N   \n",
       "4         2  2015-09-01 00:00:14   2015-09-01 00:04:20                  N   \n",
       "\n",
       "   RateCodeID  Pickup_longitude  Pickup_latitude  Dropoff_longitude  \\\n",
       "0           5        -73.979485        40.684956         -73.979431   \n",
       "1           5        -74.010796        40.912216         -74.010780   \n",
       "2           1        -73.921410        40.766708         -73.914413   \n",
       "3           1        -73.921387        40.766678         -73.931427   \n",
       "4           1        -73.955482        40.714046         -73.944412   \n",
       "\n",
       "   Dropoff_latitude  Passenger_count  ...  Tolls_amount  Ehail_fee  \\\n",
       "0         40.685020                1  ...           0.0        NaN   \n",
       "1         40.912212                1  ...           0.0        NaN   \n",
       "2         40.764687                1  ...           0.0        NaN   \n",
       "3         40.771584                1  ...           0.0        NaN   \n",
       "4         40.714729                1  ...           0.0        NaN   \n",
       "\n",
       "   improvement_surcharge  Total_amount  Payment_type  Trip_type   \\\n",
       "0                    0.0          9.75             1         2.0   \n",
       "1                    0.0         45.00             1         2.0   \n",
       "2                    0.3          5.80             1         1.0   \n",
       "3                    0.3          6.30             2         1.0   \n",
       "4                    0.3          6.30             2         1.0   \n",
       "\n",
       "   Trip_logdistance  Pickup_hour  Dropoff_hour     tip_%  \n",
       "0         -2.302585            0             0  0.200000  \n",
       "1         -2.302585            0             0  0.000000  \n",
       "2         -0.371064            0             0  0.086207  \n",
       "3         -0.174353            0             0  0.000000  \n",
       "4         -0.342490            0             0  0.000000  \n",
       "\n",
       "[5 rows x 25 columns]"
      ]
     },
     "execution_count": 78,
     "metadata": {},
     "output_type": "execute_result"
    }
   ],
   "source": [
    "df.head()"
   ]
  },
  {
   "cell_type": "code",
   "execution_count": 79,
   "metadata": {},
   "outputs": [],
   "source": [
    "#continuous variable"
   ]
  },
  {
   "cell_type": "code",
   "execution_count": 80,
   "metadata": {},
   "outputs": [
    {
     "data": {
      "text/plain": [
       "<matplotlib.collections.PathCollection at 0x1a3987eb70>"
      ]
     },
     "execution_count": 80,
     "metadata": {},
     "output_type": "execute_result"
    },
    {
     "data": {
      "image/png": "[encoded data removed]",
      "text/plain": [
       "<Figure size 432x288 with 1 Axes>"
      ]
     },
     "metadata": {
      "needs_background": "light"
     },
     "output_type": "display_data"
    }
   ],
   "source": [
    "plt.scatter(x='Trip_distance', y=\"tip_%\", data=df.sample(1000))"
   ]
  },
  {
   "cell_type": "code",
   "execution_count": 81,
   "metadata": {},
   "outputs": [
    {
     "data": {
      "text/plain": [
       "<matplotlib.collections.PathCollection at 0x1a80686d30>"
      ]
     },
     "execution_count": 81,
     "metadata": {},
     "output_type": "execute_result"
    },
    {
     "data": {
      "image/png": "[encoded data removed]",
      "text/plain": [
       "<Figure size 432x288 with 1 Axes>"
      ]
     },
     "metadata": {
      "needs_background": "light"
     },
     "output_type": "display_data"
    }
   ],
   "source": [
    "plt.scatter(x='Passenger_count', y=\"tip_%\", data=df.sample(1000))"
   ]
  },
  {
   "cell_type": "code",
   "execution_count": 82,
   "metadata": {},
   "outputs": [
    {
     "data": {
      "text/plain": [
       "<matplotlib.collections.PathCollection at 0x1a806e6860>"
      ]
     },
     "execution_count": 82,
     "metadata": {},
     "output_type": "execute_result"
    },
    {
     "data": {
      "image/png": "[encoded data removed]",
      "text/plain": [
       "<Figure size 432x288 with 1 Axes>"
      ]
     },
     "metadata": {
      "needs_background": "light"
     },
     "output_type": "display_data"
    }
   ],
   "source": [
    "plt.scatter(x='Fare_amount', y=\"tip_%\", data=df.sample(1000))"
   ]
  },
  {
   "cell_type": "code",
   "execution_count": 83,
   "metadata": {},
   "outputs": [
    {
     "data": {
      "text/plain": [
       "<matplotlib.collections.PathCollection at 0x1a807ab518>"
      ]
     },
     "execution_count": 83,
     "metadata": {},
     "output_type": "execute_result"
    },
    {
     "data": {
      "image/png": "[encoded data removed]",
      "text/plain": [
       "<Figure size 432x288 with 1 Axes>"
      ]
     },
     "metadata": {
      "needs_background": "light"
     },
     "output_type": "display_data"
    }
   ],
   "source": [
    "plt.scatter(x='Extra', y=\"tip_%\", data=df.sample(1000))"
   ]
  },
  {
   "cell_type": "code",
   "execution_count": 84,
   "metadata": {},
   "outputs": [
    {
     "data": {
      "text/plain": [
       "<matplotlib.collections.PathCollection at 0x1a87fdb160>"
      ]
     },
     "execution_count": 84,
     "metadata": {},
     "output_type": "execute_result"
    },
    {
     "data": {
      "image/png": "[encoded data removed]",
      "text/plain": [
       "<Figure size 432x288 with 1 Axes>"
      ]
     },
     "metadata": {
      "needs_background": "light"
     },
     "output_type": "display_data"
    }
   ],
   "source": [
    "plt.scatter(x='MTA_tax', y=\"tip_%\", data=df.sample(1000))"
   ]
  },
  {
   "cell_type": "code",
   "execution_count": 85,
   "metadata": {},
   "outputs": [
    {
     "data": {
      "text/plain": [
       "<matplotlib.collections.PathCollection at 0x1a808532b0>"
      ]
     },
     "execution_count": 85,
     "metadata": {},
     "output_type": "execute_result"
    },
    {
     "data": {
      "image/png": "[encoded data removed]",
      "text/plain": [
       "<Figure size 432x288 with 1 Axes>"
      ]
     },
     "metadata": {
      "needs_background": "light"
     },
     "output_type": "display_data"
    }
   ],
   "source": [
    "plt.scatter(x='Tolls_amount', y=\"tip_%\", data=df.sample(1000))"
   ]
  },
  {
   "cell_type": "code",
   "execution_count": 86,
   "metadata": {},
   "outputs": [
    {
     "data": {
      "text/plain": [
       "<matplotlib.collections.PathCollection at 0x1a808a7e10>"
      ]
     },
     "execution_count": 86,
     "metadata": {},
     "output_type": "execute_result"
    },
    {
     "data": {
      "image/png": "[encoded data removed]",
      "text/plain": [
       "<Figure size 432x288 with 1 Axes>"
      ]
     },
     "metadata": {
      "needs_background": "light"
     },
     "output_type": "display_data"
    }
   ],
   "source": [
    "plt.scatter(x='improvement_surcharge', y=\"tip_%\", data=df.sample(1000))"
   ]
  },
  {
   "cell_type": "code",
   "execution_count": 87,
   "metadata": {},
   "outputs": [],
   "source": [
    "#catrgorical variable"
   ]
  },
  {
   "cell_type": "code",
   "execution_count": 88,
   "metadata": {},
   "outputs": [
    {
     "data": {
      "text/plain": [
       "<matplotlib.axes._subplots.AxesSubplot at 0x1a809202b0>"
      ]
     },
     "execution_count": 88,
     "metadata": {},
     "output_type": "execute_result"
    },
    {
     "data": {
      "image/png": "[encoded data removed]",
      "text/plain": [
       "<Figure size 432x288 with 1 Axes>"
      ]
     },
     "metadata": {
      "needs_background": "light"
     },
     "output_type": "display_data"
    }
   ],
   "source": [
    "sns.barplot(x='VendorID', y=\"tip_%\", data=df.sample(10000))"
   ]
  },
  {
   "cell_type": "code",
   "execution_count": 89,
   "metadata": {},
   "outputs": [
    {
     "data": {
      "text/plain": [
       "<matplotlib.axes._subplots.AxesSubplot at 0x1a88378978>"
      ]
     },
     "execution_count": 89,
     "metadata": {},
     "output_type": "execute_result"
    },
    {
     "data": {
      "image/png": "[encoded data removed]",
      "text/plain": [
       "<Figure size 432x288 with 1 Axes>"
      ]
     },
     "metadata": {
      "needs_background": "light"
     },
     "output_type": "display_data"
    }
   ],
   "source": [
    "sns.barplot(x='Store_and_fwd_flag', y=\"tip_%\", data=df.sample(10000))"
   ]
  },
  {
   "cell_type": "code",
   "execution_count": 90,
   "metadata": {},
   "outputs": [
    {
     "data": {
      "text/plain": [
       "<matplotlib.axes._subplots.AxesSubplot at 0x1a883ba5c0>"
      ]
     },
     "execution_count": 90,
     "metadata": {},
     "output_type": "execute_result"
    },
    {
     "data": {
      "image/png": "[encoded data removed]",
      "text/plain": [
       "<Figure size 432x288 with 1 Axes>"
      ]
     },
     "metadata": {
      "needs_background": "light"
     },
     "output_type": "display_data"
    }
   ],
   "source": [
    "sns.barplot(x='RateCodeID', y=\"tip_%\", data=df.sample(10000))"
   ]
  },
  {
   "cell_type": "code",
   "execution_count": 91,
   "metadata": {},
   "outputs": [
    {
     "data": {
      "text/plain": [
       "<matplotlib.axes._subplots.AxesSubplot at 0x1a884ff9b0>"
      ]
     },
     "execution_count": 91,
     "metadata": {},
     "output_type": "execute_result"
    },
    {
     "data": {
      "image/png": "[encoded data removed]",
      "text/plain": [
       "<Figure size 432x288 with 1 Axes>"
      ]
     },
     "metadata": {
      "needs_background": "light"
     },
     "output_type": "display_data"
    }
   ],
   "source": [
    "sns.barplot(x='Passenger_count', y=\"tip_%\", data=df.sample(10000))"
   ]
  },
  {
   "cell_type": "code",
   "execution_count": 92,
   "metadata": {},
   "outputs": [
    {
     "data": {
      "text/plain": [
       "<matplotlib.axes._subplots.AxesSubplot at 0x1a88fcf5f8>"
      ]
     },
     "execution_count": 92,
     "metadata": {},
     "output_type": "execute_result"
    },
    {
     "data": {
      "image/png": "[encoded data removed]",
      "text/plain": [
       "<Figure size 432x288 with 1 Axes>"
      ]
     },
     "metadata": {
      "needs_background": "light"
     },
     "output_type": "display_data"
    }
   ],
   "source": [
    "sns.barplot(x='Pickup_hour', y=\"tip_%\", data=df.sample(10000))"
   ]
  },
  {
   "cell_type": "code",
   "execution_count": 93,
   "metadata": {},
   "outputs": [
    {
     "data": {
      "text/plain": [
       "<matplotlib.axes._subplots.AxesSubplot at 0x1a97608908>"
      ]
     },
     "execution_count": 93,
     "metadata": {},
     "output_type": "execute_result"
    },
    {
     "data": {
      "image/png": "[encoded data removed]",
      "text/plain": [
       "<Figure size 432x288 with 1 Axes>"
      ]
     },
     "metadata": {
      "needs_background": "light"
     },
     "output_type": "display_data"
    }
   ],
   "source": [
    "sns.barplot(x='Dropoff_hour', y=\"tip_%\", data=df.sample(10000))"
   ]
  },
  {
   "cell_type": "code",
   "execution_count": 94,
   "metadata": {},
   "outputs": [],
   "source": [
    "import statsmodels.api as sm\n",
    "from statsmodels.tools.eval_measures import mse\n",
    "from statsmodels.formula.api import ols\n",
    "\n",
    "from sklearn.preprocessing import PolynomialFeatures,StandardScaler\n",
    "from sklearn.model_selection import train_test_split\n",
    "from sklearn.metrics import explained_variance_score\n",
    "from sklearn_pandas import DataFrameMapper"
   ]
  },
  {
   "cell_type": "code",
   "execution_count": 120,
   "metadata": {
    "scrolled": false
   },
   "outputs": [
    {
     "name": "stderr",
     "output_type": "stream",
     "text": [
      "/Users/cnq0316/anaconda3/lib/python3.7/site-packages/pandas/core/ops.py:1649: FutureWarning: elementwise comparison failed; returning scalar instead, but in the future will perform elementwise comparison\n",
      "  result = method(y)\n"
     ]
    },
    {
     "name": "stdout",
     "output_type": "stream",
     "text": [
      "Baseline model with the mean tip percentage: RMSE= 0.08814298234704657\n",
      "Full model: RMSE= 0.05553540936005066\n",
      "Full model: R-square= 0.603032172455038\n"
     ]
    },
    {
     "data": {
      "text/html": [
       "<table class=\"simpletable\">\n",
       "<caption>OLS Regression Results</caption>\n",
       "<tr>\n",
       "  <th>Dep. Variable:</th>          <td>tip_%</td>      <th>  R-squared:         </th>  <td>   0.606</td> \n",
       "</tr>\n",
       "<tr>\n",
       "  <th>Model:</th>                   <td>OLS</td>       <th>  Adj. R-squared:    </th>  <td>   0.606</td> \n",
       "</tr>\n",
       "<tr>\n",
       "  <th>Method:</th>             <td>Least Squares</td>  <th>  F-statistic:       </th>  <td>1.456e+05</td>\n",
       "</tr>\n",
       "<tr>\n",
       "  <th>Date:</th>             <td>Mon, 28 Oct 2019</td> <th>  Prob (F-statistic):</th>   <td>  0.00</td>  \n",
       "</tr>\n",
       "<tr>\n",
       "  <th>Time:</th>                 <td>10:01:40</td>     <th>  Log-Likelihood:    </th> <td>1.5372e+06</td>\n",
       "</tr>\n",
       "<tr>\n",
       "  <th>No. Observations:</th>      <td>1043420</td>     <th>  AIC:               </th> <td>-3.074e+06</td>\n",
       "</tr>\n",
       "<tr>\n",
       "  <th>Df Residuals:</th>          <td>1043408</td>     <th>  BIC:               </th> <td>-3.074e+06</td>\n",
       "</tr>\n",
       "<tr>\n",
       "  <th>Df Model:</th>              <td>    11</td>      <th>                     </th>      <td> </td>    \n",
       "</tr>\n",
       "<tr>\n",
       "  <th>Covariance Type:</th>      <td>nonrobust</td>    <th>                     </th>      <td> </td>    \n",
       "</tr>\n",
       "</table>\n",
       "<table class=\"simpletable\">\n",
       "<tr>\n",
       "    <td></td>       <th>coef</th>     <th>std err</th>      <th>t</th>      <th>P>|t|</th>  <th>[0.025</th>    <th>0.975]</th>  \n",
       "</tr>\n",
       "<tr>\n",
       "  <th>const</th> <td>    0.0665</td> <td> 5.43e-05</td> <td> 1225.268</td> <td> 0.000</td> <td>    0.066</td> <td>    0.067</td>\n",
       "</tr>\n",
       "<tr>\n",
       "  <th>x1</th>    <td>   -0.0028</td> <td> 5.46e-05</td> <td>  -51.836</td> <td> 0.000</td> <td>   -0.003</td> <td>   -0.003</td>\n",
       "</tr>\n",
       "<tr>\n",
       "  <th>x2</th>    <td> 8.239e-18</td> <td> 1.05e-19</td> <td>   78.505</td> <td> 0.000</td> <td> 8.03e-18</td> <td> 8.45e-18</td>\n",
       "</tr>\n",
       "<tr>\n",
       "  <th>x3</th>    <td>    0.0004</td> <td> 5.46e-05</td> <td>    7.116</td> <td> 0.000</td> <td>    0.000</td> <td>    0.000</td>\n",
       "</tr>\n",
       "<tr>\n",
       "  <th>x4</th>    <td>    0.0031</td> <td>    0.000</td> <td>   30.441</td> <td> 0.000</td> <td>    0.003</td> <td>    0.003</td>\n",
       "</tr>\n",
       "<tr>\n",
       "  <th>x5</th>    <td>   -0.0057</td> <td>    0.000</td> <td>  -56.172</td> <td> 0.000</td> <td>   -0.006</td> <td>   -0.005</td>\n",
       "</tr>\n",
       "<tr>\n",
       "  <th>x6</th>    <td>   -0.0003</td> <td> 5.69e-05</td> <td>   -5.094</td> <td> 0.000</td> <td>   -0.000</td> <td>   -0.000</td>\n",
       "</tr>\n",
       "<tr>\n",
       "  <th>x7</th>    <td>  3.89e-05</td> <td>    0.000</td> <td>    0.186</td> <td> 0.852</td> <td>   -0.000</td> <td>    0.000</td>\n",
       "</tr>\n",
       "<tr>\n",
       "  <th>x8</th>    <td>    0.0007</td> <td> 5.78e-05</td> <td>   12.234</td> <td> 0.000</td> <td>    0.001</td> <td>    0.001</td>\n",
       "</tr>\n",
       "<tr>\n",
       "  <th>x9</th>    <td>   -0.0001</td> <td>    0.000</td> <td>   -0.511</td> <td> 0.609</td> <td>   -0.001</td> <td>    0.000</td>\n",
       "</tr>\n",
       "<tr>\n",
       "  <th>x10</th>   <td>   -0.0690</td> <td> 5.53e-05</td> <td>-1249.518</td> <td> 0.000</td> <td>   -0.069</td> <td>   -0.069</td>\n",
       "</tr>\n",
       "<tr>\n",
       "  <th>x11</th>   <td>  -5.8e-05</td> <td>    0.000</td> <td>   -0.379</td> <td> 0.705</td> <td>   -0.000</td> <td>    0.000</td>\n",
       "</tr>\n",
       "<tr>\n",
       "  <th>x12</th>   <td>    0.0007</td> <td>    0.000</td> <td>    4.427</td> <td> 0.000</td> <td>    0.000</td> <td>    0.001</td>\n",
       "</tr>\n",
       "</table>\n",
       "<table class=\"simpletable\">\n",
       "<tr>\n",
       "  <th>Omnibus:</th>       <td>499015.716</td> <th>  Durbin-Watson:     </th>   <td>   2.003</td>  \n",
       "</tr>\n",
       "<tr>\n",
       "  <th>Prob(Omnibus):</th>   <td> 0.000</td>   <th>  Jarque-Bera (JB):  </th> <td>25510259.484</td>\n",
       "</tr>\n",
       "<tr>\n",
       "  <th>Skew:</th>            <td> 1.553</td>   <th>  Prob(JB):          </th>   <td>    0.00</td>  \n",
       "</tr>\n",
       "<tr>\n",
       "  <th>Kurtosis:</th>        <td>27.023</td>   <th>  Cond. No.          </th>   <td>6.91e+16</td>  \n",
       "</tr>\n",
       "</table><br/><br/>Warnings:<br/>[1] Standard Errors assume that the covariance matrix of the errors is correctly specified.<br/>[2] The smallest eigenvalue is 4.8e-28. This might indicate that there are<br/>strong multicollinearity problems or that the design matrix is singular."
      ],
      "text/plain": [
       "<class 'statsmodels.iolib.summary.Summary'>\n",
       "\"\"\"\n",
       "                            OLS Regression Results                            \n",
       "==============================================================================\n",
       "Dep. Variable:                  tip_%   R-squared:                       0.606\n",
       "Model:                            OLS   Adj. R-squared:                  0.606\n",
       "Method:                 Least Squares   F-statistic:                 1.456e+05\n",
       "Date:                Mon, 28 Oct 2019   Prob (F-statistic):               0.00\n",
       "Time:                        10:01:40   Log-Likelihood:             1.5372e+06\n",
       "No. Observations:             1043420   AIC:                        -3.074e+06\n",
       "Df Residuals:                 1043408   BIC:                        -3.074e+06\n",
       "Df Model:                          11                                         \n",
       "Covariance Type:            nonrobust                                         \n",
       "==============================================================================\n",
       "                 coef    std err          t      P>|t|      [0.025      0.975]\n",
       "------------------------------------------------------------------------------\n",
       "const          0.0665   5.43e-05   1225.268      0.000       0.066       0.067\n",
       "x1            -0.0028   5.46e-05    -51.836      0.000      -0.003      -0.003\n",
       "x2          8.239e-18   1.05e-19     78.505      0.000    8.03e-18    8.45e-18\n",
       "x3             0.0004   5.46e-05      7.116      0.000       0.000       0.000\n",
       "x4             0.0031      0.000     30.441      0.000       0.003       0.003\n",
       "x5            -0.0057      0.000    -56.172      0.000      -0.006      -0.005\n",
       "x6            -0.0003   5.69e-05     -5.094      0.000      -0.000      -0.000\n",
       "x7           3.89e-05      0.000      0.186      0.852      -0.000       0.000\n",
       "x8             0.0007   5.78e-05     12.234      0.000       0.001       0.001\n",
       "x9            -0.0001      0.000     -0.511      0.609      -0.001       0.000\n",
       "x10           -0.0690   5.53e-05  -1249.518      0.000      -0.069      -0.069\n",
       "x11          -5.8e-05      0.000     -0.379      0.705      -0.000       0.000\n",
       "x12            0.0007      0.000      4.427      0.000       0.000       0.001\n",
       "==============================================================================\n",
       "Omnibus:                   499015.716   Durbin-Watson:                   2.003\n",
       "Prob(Omnibus):                  0.000   Jarque-Bera (JB):         25510259.484\n",
       "Skew:                           1.553   Prob(JB):                         0.00\n",
       "Kurtosis:                      27.023   Cond. No.                     6.91e+16\n",
       "==============================================================================\n",
       "\n",
       "Warnings:\n",
       "[1] Standard Errors assume that the covariance matrix of the errors is correctly specified.\n",
       "[2] The smallest eigenvalue is 4.8e-28. This might indicate that there are\n",
       "strong multicollinearity problems or that the design matrix is singular.\n",
       "\"\"\""
      ]
     },
     "execution_count": 120,
     "metadata": {},
     "output_type": "execute_result"
    }
   ],
   "source": [
    "df['Store_and_fwd_flag'] = df.loc[df['Store_and_fwd_flag'] == 'N'] = 1\n",
    "df['Store_and_fwd_flag'] = df.loc[df['Store_and_fwd_flag'] == 'Y'] = 2\n",
    "mapper = DataFrameMapper([(['VendorID','Store_and_fwd_flag','Passenger_count','Trip_distance','Fare_amount','Extra',\n",
    "                            'MTA_tax','Tolls_amount','improvement_surcharge','Payment_type','Pickup_hour','Dropoff_hour'],[StandardScaler()])])\n",
    "X = mapper.fit_transform(df)\n",
    "y = df['tip_%']\n",
    "X_train, X_test, y_train, y_test = train_test_split(X, y, test_size=0.3, random_state=43)\n",
    "model = sm.OLS(y_train, sm.add_constant(X_train)).fit()\n",
    "predictions = model.predict(sm.add_constant(X_test))\n",
    "\n",
    "# Print out the statistics\n",
    "print('Baseline model with the mean tip percentage: RMSE=',np.sqrt(mse(y_test.mean(),y_test)))\n",
    "print('Full model: RMSE=',np.sqrt(mse(predictions, y_test)))\n",
    "print('Full model: R-square=',explained_variance_score(y_test, predictions))\n",
    "model.summary()"
   ]
  },
  {
   "cell_type": "code",
   "execution_count": 121,
   "metadata": {
    "scrolled": false
   },
   "outputs": [
    {
     "data": {
      "text/plain": [
       "VendorID                -0.006864\n",
       "Store_and_fwd_flag            NaN\n",
       "RateCodeID              -0.064766\n",
       "Pickup_longitude        -0.002603\n",
       "Pickup_latitude         -0.004812\n",
       "Dropoff_longitude       -0.018093\n",
       "Dropoff_latitude         0.009614\n",
       "Passenger_count          0.001342\n",
       "Trip_distance            0.096665\n",
       "Fare_amount              0.086946\n",
       "Extra                    0.015090\n",
       "MTA_tax                  0.071580\n",
       "Tip_amount               0.719130\n",
       "Tolls_amount             0.043161\n",
       "Ehail_fee                     NaN\n",
       "improvement_surcharge    0.070916\n",
       "Total_amount             0.231298\n",
       "Payment_type            -0.776017\n",
       "Trip_type               -0.066472\n",
       "Trip_logdistance         0.117126\n",
       "Pickup_hour              0.011497\n",
       "Dropoff_hour             0.010211\n",
       "tip_%                    1.000000\n",
       "dtype: float64"
      ]
     },
     "execution_count": 121,
     "metadata": {},
     "output_type": "execute_result"
    }
   ],
   "source": [
    "df.corrwith(df['tip_%'])"
   ]
  },
  {
   "cell_type": "code",
   "execution_count": 130,
   "metadata": {},
   "outputs": [
    {
     "data": {
      "text/plain": [
       "'\\nfrom patsy import dmatrices\\nfrom statsmodels.stats.outliers_influence import variance_inflation_factor\\nfeatures = \"+\".join(df.columns - [\"tip_%\"])\\ny, X = dmatrices(\\'tip_% ~\\' + features, df, return_type=\\'dataframe\\')\\nvif = pd.DataFrame()\\nvif[\"VIF Factor\"] = [variance_inflation_factor(X.values, i) for i in range(X.shape[1])]\\nvif[\"features\"] = X.columns\\n'"
      ]
     },
     "execution_count": 130,
     "metadata": {},
     "output_type": "execute_result"
    }
   ],
   "source": [
    "'''\n",
    "from patsy import dmatrices\n",
    "from statsmodels.stats.outliers_influence import variance_inflation_factor\n",
    "features = \"+\".join(df.columns - [\"tip_%\"])\n",
    "y, X = dmatrices('tip_% ~' + features, df, return_type='dataframe')\n",
    "vif = pd.DataFrame()\n",
    "vif[\"VIF Factor\"] = [variance_inflation_factor(X.values, i) for i in range(X.shape[1])]\n",
    "vif[\"features\"] = X.columns\n",
    "'''"
   ]
  },
  {
   "cell_type": "code",
   "execution_count": 132,
   "metadata": {},
   "outputs": [
    {
     "name": "stdout",
     "output_type": "stream",
     "text": [
      "Baseline model with the mean tip percentage: RMSE= 0.08814298234704657\n",
      "Full model: RMSE= 0.08744971859248009\n",
      "Full model: R-square= 0.01567777680487048\n"
     ]
    },
    {
     "data": {
      "text/html": [
       "<table class=\"simpletable\">\n",
       "<caption>OLS Regression Results</caption>\n",
       "<tr>\n",
       "  <th>Dep. Variable:</th>          <td>tip_%</td>      <th>  R-squared:         </th>  <td>   0.015</td> \n",
       "</tr>\n",
       "<tr>\n",
       "  <th>Model:</th>                   <td>OLS</td>       <th>  Adj. R-squared:    </th>  <td>   0.015</td> \n",
       "</tr>\n",
       "<tr>\n",
       "  <th>Method:</th>             <td>Least Squares</td>  <th>  F-statistic:       </th>  <td>   1623.</td> \n",
       "</tr>\n",
       "<tr>\n",
       "  <th>Date:</th>             <td>Mon, 28 Oct 2019</td> <th>  Prob (F-statistic):</th>   <td>  0.00</td>  \n",
       "</tr>\n",
       "<tr>\n",
       "  <th>Time:</th>                 <td>10:23:52</td>     <th>  Log-Likelihood:    </th> <td>1.0599e+06</td>\n",
       "</tr>\n",
       "<tr>\n",
       "  <th>No. Observations:</th>      <td>1043420</td>     <th>  AIC:               </th> <td>-2.120e+06</td>\n",
       "</tr>\n",
       "<tr>\n",
       "  <th>Df Residuals:</th>          <td>1043409</td>     <th>  BIC:               </th> <td>-2.120e+06</td>\n",
       "</tr>\n",
       "<tr>\n",
       "  <th>Df Model:</th>              <td>    10</td>      <th>                     </th>      <td> </td>    \n",
       "</tr>\n",
       "<tr>\n",
       "  <th>Covariance Type:</th>      <td>nonrobust</td>    <th>                     </th>      <td> </td>    \n",
       "</tr>\n",
       "</table>\n",
       "<table class=\"simpletable\">\n",
       "<tr>\n",
       "    <td></td>       <th>coef</th>     <th>std err</th>      <th>t</th>      <th>P>|t|</th>  <th>[0.025</th>    <th>0.975]</th>  \n",
       "</tr>\n",
       "<tr>\n",
       "  <th>const</th> <td>    0.0665</td> <td> 8.58e-05</td> <td>  775.538</td> <td> 0.000</td> <td>    0.066</td> <td>    0.067</td>\n",
       "</tr>\n",
       "<tr>\n",
       "  <th>x1</th>    <td>   -0.0006</td> <td> 8.61e-05</td> <td>   -6.502</td> <td> 0.000</td> <td>   -0.001</td> <td>   -0.000</td>\n",
       "</tr>\n",
       "<tr>\n",
       "  <th>x2</th>    <td> 1.487e-17</td> <td> 1.74e-18</td> <td>    8.531</td> <td> 0.000</td> <td> 1.15e-17</td> <td> 1.83e-17</td>\n",
       "</tr>\n",
       "<tr>\n",
       "  <th>x3</th>    <td> 8.256e-05</td> <td> 8.62e-05</td> <td>    0.957</td> <td> 0.338</td> <td>-8.64e-05</td> <td>    0.000</td>\n",
       "</tr>\n",
       "<tr>\n",
       "  <th>x4</th>    <td>    0.0053</td> <td>    0.000</td> <td>   33.377</td> <td> 0.000</td> <td>    0.005</td> <td>    0.006</td>\n",
       "</tr>\n",
       "<tr>\n",
       "  <th>x5</th>    <td>    0.0033</td> <td>    0.000</td> <td>   21.033</td> <td> 0.000</td> <td>    0.003</td> <td>    0.004</td>\n",
       "</tr>\n",
       "<tr>\n",
       "  <th>x6</th>    <td>    0.0004</td> <td> 8.99e-05</td> <td>    4.522</td> <td> 0.000</td> <td>    0.000</td> <td>    0.001</td>\n",
       "</tr>\n",
       "<tr>\n",
       "  <th>x7</th>    <td>    0.0065</td> <td>    0.000</td> <td>   19.568</td> <td> 0.000</td> <td>    0.006</td> <td>    0.007</td>\n",
       "</tr>\n",
       "<tr>\n",
       "  <th>x8</th>    <td>    0.0014</td> <td> 9.14e-05</td> <td>   15.663</td> <td> 0.000</td> <td>    0.001</td> <td>    0.002</td>\n",
       "</tr>\n",
       "<tr>\n",
       "  <th>x9</th>    <td>    0.0001</td> <td>    0.000</td> <td>    0.308</td> <td> 0.758</td> <td>   -0.001</td> <td>    0.001</td>\n",
       "</tr>\n",
       "<tr>\n",
       "  <th>x10</th>   <td>    0.0009</td> <td>    0.000</td> <td>    3.669</td> <td> 0.000</td> <td>    0.000</td> <td>    0.001</td>\n",
       "</tr>\n",
       "<tr>\n",
       "  <th>x11</th>   <td>    0.0001</td> <td>    0.000</td> <td>    0.574</td> <td> 0.566</td> <td>   -0.000</td> <td>    0.001</td>\n",
       "</tr>\n",
       "</table>\n",
       "<table class=\"simpletable\">\n",
       "<tr>\n",
       "  <th>Omnibus:</th>       <td>271669.075</td> <th>  Durbin-Watson:     </th>  <td>   2.000</td>  \n",
       "</tr>\n",
       "<tr>\n",
       "  <th>Prob(Omnibus):</th>   <td> 0.000</td>   <th>  Jarque-Bera (JB):  </th> <td>1050211.704</td>\n",
       "</tr>\n",
       "<tr>\n",
       "  <th>Skew:</th>            <td> 1.259</td>   <th>  Prob(JB):          </th>  <td>    0.00</td>  \n",
       "</tr>\n",
       "<tr>\n",
       "  <th>Kurtosis:</th>        <td> 7.220</td>   <th>  Cond. No.          </th>  <td>1.07e+16</td>  \n",
       "</tr>\n",
       "</table><br/><br/>Warnings:<br/>[1] Standard Errors assume that the covariance matrix of the errors is correctly specified.<br/>[2] The smallest eigenvalue is 2.02e-26. This might indicate that there are<br/>strong multicollinearity problems or that the design matrix is singular."
      ],
      "text/plain": [
       "<class 'statsmodels.iolib.summary.Summary'>\n",
       "\"\"\"\n",
       "                            OLS Regression Results                            \n",
       "==============================================================================\n",
       "Dep. Variable:                  tip_%   R-squared:                       0.015\n",
       "Model:                            OLS   Adj. R-squared:                  0.015\n",
       "Method:                 Least Squares   F-statistic:                     1623.\n",
       "Date:                Mon, 28 Oct 2019   Prob (F-statistic):               0.00\n",
       "Time:                        10:23:52   Log-Likelihood:             1.0599e+06\n",
       "No. Observations:             1043420   AIC:                        -2.120e+06\n",
       "Df Residuals:                 1043409   BIC:                        -2.120e+06\n",
       "Df Model:                          10                                         \n",
       "Covariance Type:            nonrobust                                         \n",
       "==============================================================================\n",
       "                 coef    std err          t      P>|t|      [0.025      0.975]\n",
       "------------------------------------------------------------------------------\n",
       "const          0.0665   8.58e-05    775.538      0.000       0.066       0.067\n",
       "x1            -0.0006   8.61e-05     -6.502      0.000      -0.001      -0.000\n",
       "x2          1.487e-17   1.74e-18      8.531      0.000    1.15e-17    1.83e-17\n",
       "x3          8.256e-05   8.62e-05      0.957      0.338   -8.64e-05       0.000\n",
       "x4             0.0053      0.000     33.377      0.000       0.005       0.006\n",
       "x5             0.0033      0.000     21.033      0.000       0.003       0.004\n",
       "x6             0.0004   8.99e-05      4.522      0.000       0.000       0.001\n",
       "x7             0.0065      0.000     19.568      0.000       0.006       0.007\n",
       "x8             0.0014   9.14e-05     15.663      0.000       0.001       0.002\n",
       "x9             0.0001      0.000      0.308      0.758      -0.001       0.001\n",
       "x10            0.0009      0.000      3.669      0.000       0.000       0.001\n",
       "x11            0.0001      0.000      0.574      0.566      -0.000       0.001\n",
       "==============================================================================\n",
       "Omnibus:                   271669.075   Durbin-Watson:                   2.000\n",
       "Prob(Omnibus):                  0.000   Jarque-Bera (JB):          1050211.704\n",
       "Skew:                           1.259   Prob(JB):                         0.00\n",
       "Kurtosis:                       7.220   Cond. No.                     1.07e+16\n",
       "==============================================================================\n",
       "\n",
       "Warnings:\n",
       "[1] Standard Errors assume that the covariance matrix of the errors is correctly specified.\n",
       "[2] The smallest eigenvalue is 2.02e-26. This might indicate that there are\n",
       "strong multicollinearity problems or that the design matrix is singular.\n",
       "\"\"\""
      ]
     },
     "execution_count": 132,
     "metadata": {},
     "output_type": "execute_result"
    }
   ],
   "source": [
    "mapper = DataFrameMapper([(['VendorID','Store_and_fwd_flag','Passenger_count','Trip_distance','Fare_amount','Extra',\n",
    "                            'MTA_tax','Tolls_amount','improvement_surcharge','Pickup_hour','Dropoff_hour'],[StandardScaler()])])\n",
    "X = mapper.fit_transform(df)\n",
    "y = df['tip_%']\n",
    "X_train, X_test, y_train, y_test = train_test_split(X, y, test_size=0.3, random_state=43)\n",
    "model = sm.OLS(y_train, sm.add_constant(X_train)).fit()\n",
    "predictions = model.predict(sm.add_constant(X_test))\n",
    "\n",
    "# Print out the statistics\n",
    "print('Baseline model with the mean tip percentage: RMSE=',np.sqrt(mse(y_test.mean(),y_test)))\n",
    "print('Full model: RMSE=',np.sqrt(mse(predictions, y_test)))\n",
    "print('Full model: R-square=',explained_variance_score(y_test, predictions))\n",
    "model.summary()"
   ]
  },
  {
   "cell_type": "code",
   "execution_count": 126,
   "metadata": {},
   "outputs": [
    {
     "data": {
      "text/plain": [
       "\"\\nmapper_poly= DataFrameMapper([\\n    (['Passenger_count','Trip_distance','Fare_amount','Extra','MTA_tax','Tolls_amount','improvement_surcharge'],[PolynomialFeatures(2),StandardScaler()])\\n\\nX2 = mapper_poly.fit_transform(df)\\ny2 = df['tip_%'].reset_index(drop=True)\\n\\nX_train2, X_test2, y_train2, y_test2 = train_test_split(X2, y2, test_size=0.3, random_state=43)\\n\\nmodel2 = sm.OLS(y_train2, X_train2).fit()\\npredictions2 = model2.predict(X_test2) \\n\\nprint('Baseline model with the mean tip percentage: RMSE=',np.sqrt(mse(y_test2.mean(), y_test2)))\\nprint('Full model: RMSE=',np.sqrt(mse(predictions2, y_test2)))\\nprint('Full model: R-square=',explained_variance_score(y_test2, predictions2))\\n\""
      ]
     },
     "execution_count": 126,
     "metadata": {},
     "output_type": "execute_result"
    }
   ],
   "source": [
    "'''\n",
    "mapper_poly= DataFrameMapper([\n",
    "    (['Passenger_count','Trip_distance','Fare_amount','Extra','MTA_tax','Tolls_amount','improvement_surcharge'],[PolynomialFeatures(2),StandardScaler()])\n",
    "\n",
    "X2 = mapper_poly.fit_transform(df)\n",
    "y2 = df['tip_%'].reset_index(drop=True)\n",
    "\n",
    "X_train2, X_test2, y_train2, y_test2 = train_test_split(X2, y2, test_size=0.3, random_state=43)\n",
    "\n",
    "model2 = sm.OLS(y_train2, X_train2).fit()\n",
    "predictions2 = model2.predict(X_test2) \n",
    "\n",
    "print('Baseline model with the mean tip percentage: RMSE=',np.sqrt(mse(y_test2.mean(), y_test2)))\n",
    "print('Full model: RMSE=',np.sqrt(mse(predictions2, y_test2)))\n",
    "print('Full model: R-square=',explained_variance_score(y_test2, predictions2))\n",
    "'''"
   ]
  },
  {
   "cell_type": "code",
   "execution_count": 157,
   "metadata": {},
   "outputs": [],
   "source": [
    "#Q5a\n",
    "'''\n",
    "median_speed = df['trip_speed'].loc[(df['Trip_distance']>0) & (df['trip_time']>0)].median()\n",
    "\n",
    "# index type of data error\n",
    "dist_0 = (df['Trip_distance']==0) & (df['trip_time']>0)\n",
    "time_0 = (df['Trip_distance']>0) & (df['trip_time']==0)\n",
    "ratecode_2 = (df['Trip_distance']==0) & (df['trip_time']==0) & (df['RateCodeID']==2)\n",
    "other_err = (df['Trip_distance']==0) & (df['trip_time']==0) & (df['RateCodeID']!=2)\n",
    "\n",
    "\n",
    "# For trips with distance = 0 and time >0, replaced by median speed * trip time                                  \n",
    "df['Trip_distance'].loc[dist_0] = df['trip_time'].loc[dist_0]*median_speed\n",
    "\n",
    "# For trips with distance > 0 and time = 0, replaced by trip distance /median speed \n",
    "df['trip_time'].loc[time_0] = df['Trip_distance'].loc[time_0]/median_speed\n",
    "\n",
    "# For trips with distance ==0 and time = 0 and rate code ==2, replaced by median distance and time for rate code ==2\n",
    "df['trip_time'].loc[ratecode_2] = df['trip_time'].loc[(df['Trip_distance']>0) & (df['trip_time']>0) \\\n",
    "                                                      & (df['RateCodeID']==2)].median()\n",
    "df['Trip_distance'].loc[ratecode_2] = df['Trip_distance'].loc[(df['Trip_distance']>0) & (df['trip_time']>0) \\\n",
    "                                                      & (df['RateCodeID']==2)].median()\n",
    "\n",
    "# For trips with distance ==0 and time = 0 and rate code !=2, replaced using median distance or time/dollar*fare\n",
    "time_p_usd = df['trip_time']/df['Fare_amount']\n",
    "distance_p_usd = df['Trip_distance']/df['Fare_amount']\n",
    "\n",
    "df['trip_time'].loc[other_err] = df['Fare_amount'].loc[other_err] * time_p_usd.median()\n",
    "df['Trip_distance'].loc[other_err] = df['Fare_amount'].loc[other_err] * distance_p_usd.median()\n",
    "\n",
    "# recalculate speed after impution\n",
    "df['trip_speed'] = df['Trip_distance']/df['trip_time']\n",
    "'''"
   ]
  },
  {
   "cell_type": "code",
   "execution_count": 158,
   "metadata": {},
   "outputs": [
    {
     "name": "stdout",
     "output_type": "stream",
     "text": [
      "Average Speed: nan\n",
      "Standard Deviation: nan\n",
      "Median Speed: 12.7\n",
      "The 95% of speed fell between 5.4 to 36.0\n"
     ]
    }
   ],
   "source": [
    "from datetime import datetime\n",
    "df['lpep_pickup_datetime'] = pd.to_datetime(df['lpep_pickup_datetime'], infer_datetime_format=True)\n",
    "df['Lpep_dropoff_datetime'] = pd.to_datetime(df['Lpep_dropoff_datetime'], infer_datetime_format=True)\n",
    "tdelta = df['Lpep_dropoff_datetime'] - df['lpep_pickup_datetime']\n",
    "df['trip_time'] = tdelta.astype('timedelta64[m]')\n",
    "df['trip_speed'] = df['Trip_distance'] / df['trip_time']\n",
    "df['trip_speed_mph'] = df['trip_speed']*60\n",
    "print('Average Speed:',round(df['trip_speed_mph'].mean(),1))\n",
    "print('Standard Deviation:',round(df['trip_speed_mph'].std(),1))\n",
    "print('Median Speed:',round(df['trip_speed_mph'].median(),1))\n",
    "print('The 95% of speed fell between', round(df['trip_speed_mph'].quantile(.025),1),'to',round(df['trip_speed_mph'].quantile(.975), 1))"
   ]
  },
  {
   "cell_type": "code",
   "execution_count": 160,
   "metadata": {},
   "outputs": [
    {
     "data": {
      "text/plain": [
       "\"\\ndf['week'] = df['lpep_pickup_datetime'].dt.week.astype(str)\\nmod = ols('trip_speed_mph ~ week',data=df).fit()\\naov_table = sm.stats.anova_lm(mod, typ=2)\\naov_table\\n\""
      ]
     },
     "execution_count": 160,
     "metadata": {},
     "output_type": "execute_result"
    }
   ],
   "source": [
    "'''\n",
    "df['week'] = df['lpep_pickup_datetime'].dt.week.astype(str)\n",
    "mod = ols('trip_speed_mph ~ week',data=df).fit()\n",
    "aov_table = sm.stats.anova_lm(mod, typ=2)\n",
    "aov_table\n",
    "'''"
   ]
  }
 ],
 "metadata": {
  "kernelspec": {
   "display_name": "Python 3",
   "language": "python",
   "name": "python3"
  },
  "language_info": {
   "codemirror_mode": {
    "name": "ipython",
    "version": 3
   },
   "file_extension": ".py",
   "mimetype": "text/x-python",
   "name": "python",
   "nbconvert_exporter": "python",
   "pygments_lexer": "ipython3",
   "version": "3.7.3"
  }
 },
 "nbformat": 4,
 "nbformat_minor": 2
}
